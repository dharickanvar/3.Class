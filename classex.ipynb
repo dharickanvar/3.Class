{
 "cells": [
  {
   "cell_type": "code",
   "execution_count": 1,
   "id": "94f925c0",
   "metadata": {},
   "outputs": [],
   "source": [
    "from classcc import SubfieldsinAI"
   ]
  },
  {
   "cell_type": "code",
   "execution_count": 2,
   "id": "66dad0e7",
   "metadata": {},
   "outputs": [
    {
     "name": "stdout",
     "output_type": "stream",
     "text": [
      "Sub-fields in AI are:\n",
      "Machine Learning\n",
      "Neural Networks\n",
      "Vision\n",
      "Robotics\n",
      "Speech Processing\n",
      "Natural Language Processing\n"
     ]
    }
   ],
   "source": [
    "SubfieldsinAI.Subfields()"
   ]
  },
  {
   "cell_type": "code",
   "execution_count": 3,
   "id": "02dbb362",
   "metadata": {},
   "outputs": [],
   "source": [
    "from classcc import OddEven1"
   ]
  },
  {
   "cell_type": "code",
   "execution_count": 4,
   "id": "c817eb98",
   "metadata": {},
   "outputs": [
    {
     "name": "stdout",
     "output_type": "stream",
     "text": [
      "enter the number:52452\n",
      "52452  is a Even number\n"
     ]
    }
   ],
   "source": [
    "OddEven1.OddEven()"
   ]
  },
  {
   "cell_type": "code",
   "execution_count": 5,
   "id": "be848f60",
   "metadata": {},
   "outputs": [],
   "source": [
    "from classcc import ElegiblityForMarriage"
   ]
  },
  {
   "cell_type": "code",
   "execution_count": 6,
   "id": "e10f77a0",
   "metadata": {},
   "outputs": [
    {
     "name": "stdout",
     "output_type": "stream",
     "text": [
      "Your Gender:Male\n",
      "Your Age:20\n",
      "NOT ELIGIBLE\n"
     ]
    }
   ],
   "source": [
    "ElegiblityForMarriage.Elegible()"
   ]
  },
  {
   "cell_type": "code",
   "execution_count": 7,
   "id": "893f4840",
   "metadata": {},
   "outputs": [],
   "source": [
    "from classcc import FindPercent"
   ]
  },
  {
   "cell_type": "code",
   "execution_count": 8,
   "id": "c1c4a394",
   "metadata": {},
   "outputs": [
    {
     "name": "stdout",
     "output_type": "stream",
     "text": [
      "Subject1= 98\n",
      "Subject2= 87\n",
      "Subject3= 95\n",
      "Subject4= 95\n",
      "Subject5= 93\n",
      "Total: 468\n",
      "percentage: 93.60000000000001\n"
     ]
    }
   ],
   "source": [
    "FindPercent.percentage()"
   ]
  },
  {
   "cell_type": "code",
   "execution_count": 9,
   "id": "37b3a947",
   "metadata": {},
   "outputs": [],
   "source": [
    "from classcc import triangle1"
   ]
  },
  {
   "cell_type": "code",
   "execution_count": 10,
   "id": "e62e84df",
   "metadata": {},
   "outputs": [
    {
     "name": "stdout",
     "output_type": "stream",
     "text": [
      "Height:32\n",
      "Breadth:34\n",
      "Area formula: (Height*Breadth)/2\n",
      "Area of Triangle: 544.0\n",
      "Height1:2\n",
      "Height2:4\n",
      "Breadth:4\n",
      "Perimeter formula: Height1+Height2+Breadth\n",
      "Perimeter of Triangle: 10\n"
     ]
    }
   ],
   "source": [
    "triangle1.triangle()"
   ]
  },
  {
   "cell_type": "code",
   "execution_count": null,
   "id": "37c9a283",
   "metadata": {},
   "outputs": [],
   "source": []
  }
 ],
 "metadata": {
  "kernelspec": {
   "display_name": "Python 3 (ipykernel)",
   "language": "python",
   "name": "python3"
  },
  "language_info": {
   "codemirror_mode": {
    "name": "ipython",
    "version": 3
   },
   "file_extension": ".py",
   "mimetype": "text/x-python",
   "name": "python",
   "nbconvert_exporter": "python",
   "pygments_lexer": "ipython3",
   "version": "3.11.3"
  }
 },
 "nbformat": 4,
 "nbformat_minor": 5
}
