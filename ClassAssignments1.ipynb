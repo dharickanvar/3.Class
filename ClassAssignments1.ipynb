{
 "cells": [
  {
   "cell_type": "code",
   "execution_count": 46,
   "id": "b1f0c674",
   "metadata": {},
   "outputs": [],
   "source": [
    "class SubfieldsinAI():\n",
    " def  Subfields():\n",
    "    print(\"Sub-fields in AI are:\")\n",
    "    lists=[\"Machine Learning\",\"Neural Networks\",\"Vision\",\"Robotics\",\"Speech Processing\",\"Natural Language Processing\"]\n",
    "    for temp in lists:\n",
    "     print(temp)"
   ]
  },
  {
   "cell_type": "code",
   "execution_count": 47,
   "id": "19d30bd1",
   "metadata": {},
   "outputs": [
    {
     "name": "stdout",
     "output_type": "stream",
     "text": [
      "Sub-fields in AI are:\n",
      "Machine Learning\n",
      "Neural Networks\n",
      "Vision\n",
      "Robotics\n",
      "Speech Processing\n",
      "Natural Language Processing\n"
     ]
    }
   ],
   "source": [
    "SubfieldsinAI.Subfields()"
   ]
  },
  {
   "cell_type": "code",
   "execution_count": 48,
   "id": "dc69b729",
   "metadata": {},
   "outputs": [],
   "source": [
    "class OddEven():\n",
    " def OddEven():\n",
    "    num=int(input(\"enter the number:\"))\n",
    "    if((num%2)==0):\n",
    "     print(num,\" is a Even number\")\n",
    "    else:\n",
    "     print(num,\" is a odd number\")"
   ]
  },
  {
   "cell_type": "code",
   "execution_count": 49,
   "id": "cb8d6619",
   "metadata": {},
   "outputs": [
    {
     "name": "stdout",
     "output_type": "stream",
     "text": [
      "enter the number:52452\n",
      "52452  is a Even number\n"
     ]
    }
   ],
   "source": [
    "OddEven.OddEven()"
   ]
  },
  {
   "cell_type": "code",
   "execution_count": 53,
   "id": "613f5acc",
   "metadata": {},
   "outputs": [],
   "source": [
    "class ElegiblityForMarriage():\n",
    " def Elegible():\n",
    "    temp=input(\"Your Gender:\")\n",
    "    temp2=int(input(\"Your Age:\"))\n",
    "    if(temp2<=21):\n",
    "        print(\"NOT ELIGIBLE\")\n",
    "    else:\n",
    "         print(\"Eligible\")"
   ]
  },
  {
   "cell_type": "code",
   "execution_count": 54,
   "id": "b9c5b4d5",
   "metadata": {},
   "outputs": [
    {
     "name": "stdout",
     "output_type": "stream",
     "text": [
      "Your Gender:Male\n",
      "Your Age:20\n",
      "NOT ELIGIBLE\n"
     ]
    }
   ],
   "source": [
    "ElegiblityForMarriage.Elegible()"
   ]
  },
  {
   "cell_type": "code",
   "execution_count": 58,
   "id": "559b0bd7",
   "metadata": {},
   "outputs": [],
   "source": [
    "class FindPercent():\n",
    " def percentage():\n",
    "    num1=int(input(\"Subject1= \"))\n",
    "    num2=int(input(\"Subject2= \"))\n",
    "    num3=int(input(\"Subject3= \"))\n",
    "    num4=int(input(\"Subject4= \"))\n",
    "    num5=int(input(\"Subject5= \"))\n",
    "    Total= num1+num2+num3+num4+num5\n",
    "    print(\"Total:\",num1+num2+num3+num4+num5)\n",
    "    percentage = (Total/500)*100\n",
    "    print(\"percentage:\",percentage)"
   ]
  },
  {
   "cell_type": "code",
   "execution_count": 59,
   "id": "04555d04",
   "metadata": {},
   "outputs": [
    {
     "name": "stdout",
     "output_type": "stream",
     "text": [
      "Subject1= 98\n",
      "Subject2= 87\n",
      "Subject3= 95\n",
      "Subject4= 95\n",
      "Subject5= 93\n",
      "Total: 468\n",
      "percentage: 93.60000000000001\n"
     ]
    }
   ],
   "source": [
    " FindPercent.percentage()"
   ]
  },
  {
   "cell_type": "code",
   "execution_count": 61,
   "id": "681ab3ce",
   "metadata": {},
   "outputs": [],
   "source": [
    "class triangle():\n",
    " def triangle():\n",
    "    num1=int(input(\"Height:\"))\n",
    "    num2=int(input(\"Breadth:\"))\n",
    "    print(\"Area formula: (Height*Breadth)/2\")\n",
    "    num3=(num1*num2)/2\n",
    "    print(\"Area of Triangle:\", num3)\n",
    "    num4=int(input(\"Height1:\"))\n",
    "    num5=int(input(\"Height2:\"))\n",
    "    num6=int(input(\"Breadth:\"))\n",
    "    print(\"Perimeter formula: Height1+Height2+Breadth\")\n",
    "    num7=num4+num5+num6\n",
    "    print(\"Perimeter of Triangle:\" , num7)"
   ]
  },
  {
   "cell_type": "code",
   "execution_count": 62,
   "id": "c94eb8aa",
   "metadata": {},
   "outputs": [
    {
     "name": "stdout",
     "output_type": "stream",
     "text": [
      "Height:32\n",
      "Breadth:34\n",
      "Area formula: (Height*Breadth)/2\n",
      "Area of Triangle: 544.0\n",
      "Height1:2\n",
      "Height2:4\n",
      "Breadth:4\n",
      "Perimeter formula: Height1+Height2+Breadth\n",
      "Perimeter of Triangle: 10\n"
     ]
    }
   ],
   "source": [
    "triangle.triangle()"
   ]
  },
  {
   "cell_type": "code",
   "execution_count": null,
   "id": "90b6f3be",
   "metadata": {},
   "outputs": [],
   "source": []
  }
 ],
 "metadata": {
  "kernelspec": {
   "display_name": "Python 3 (ipykernel)",
   "language": "python",
   "name": "python3"
  },
  "language_info": {
   "codemirror_mode": {
    "name": "ipython",
    "version": 3
   },
   "file_extension": ".py",
   "mimetype": "text/x-python",
   "name": "python",
   "nbconvert_exporter": "python",
   "pygments_lexer": "ipython3",
   "version": "3.11.3"
  }
 },
 "nbformat": 4,
 "nbformat_minor": 5
}
