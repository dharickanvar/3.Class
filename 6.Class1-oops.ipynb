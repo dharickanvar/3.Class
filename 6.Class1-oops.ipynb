{
 "cells": [
  {
   "cell_type": "code",
   "execution_count": 70,
   "id": "94e6cbcb",
   "metadata": {},
   "outputs": [],
   "source": [
    "class multiplefunctions():\n",
    "   def oddoreven():\n",
    "      num=int(input(\"enter the number\"))\n",
    "      if((num%2)==1):\n",
    "       print(\"odd number\")\n",
    "       mess=\"odd number\"\n",
    "      else:\n",
    "       print(\"even number\")\n",
    "      mess=\"even number\"\n",
    "      return mess\n",
    "            \n",
    "   def BMI():\n",
    "       BMI=int(input(\"Enter the BMI Index:\"))\n",
    "       if(BMI<18.4):\n",
    "        print(\"Underweight\")\n",
    "        message=\"Underweight\"\n",
    "       elif(BMI<24.9):\n",
    "        print(\"Normal\")\n",
    "        message=\"Normal\"\n",
    "       elif(BMI<29.9):\n",
    "        print(\"Overweight\")\n",
    "        message=\"Overweight\"\n",
    "       else:\n",
    "        print(\"Very Overweight\")\n",
    "        message=\"Very Overweight\"\n",
    "       return message\n"
   ]
  },
  {
   "cell_type": "code",
   "execution_count": 71,
   "id": "07111816",
   "metadata": {},
   "outputs": [
    {
     "name": "stdout",
     "output_type": "stream",
     "text": [
      "enter the number4\n",
      "even number\n",
      "Enter the BMI Index:25\n",
      "Overweight\n"
     ]
    },
    {
     "data": {
      "text/plain": [
       "'Overweight'"
      ]
     },
     "execution_count": 71,
     "metadata": {},
     "output_type": "execute_result"
    }
   ],
   "source": [
    "multiplefunctions.oddoreven()\n",
    "multiplefunctions.BMI()"
   ]
  },
  {
   "cell_type": "code",
   "execution_count": null,
   "id": "df7f84ab",
   "metadata": {},
   "outputs": [],
   "source": []
  }
 ],
 "metadata": {
  "kernelspec": {
   "display_name": "Python 3 (ipykernel)",
   "language": "python",
   "name": "python3"
  },
  "language_info": {
   "codemirror_mode": {
    "name": "ipython",
    "version": 3
   },
   "file_extension": ".py",
   "mimetype": "text/x-python",
   "name": "python",
   "nbconvert_exporter": "python",
   "pygments_lexer": "ipython3",
   "version": "3.11.3"
  }
 },
 "nbformat": 4,
 "nbformat_minor": 5
}
